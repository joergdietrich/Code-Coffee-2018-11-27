{
 "cells": [
  {
   "cell_type": "markdown",
   "metadata": {
    "slideshow": {
     "slide_type": "slide"
    }
   },
   "source": [
    "# Why your Python 2 code has no future"
   ]
  },
  {
   "cell_type": "markdown",
   "metadata": {
    "slideshow": {
     "slide_type": "-"
    }
   },
   "source": [
    "![CPython EoL](Py2_EoL.png)"
   ]
  },
  {
   "cell_type": "markdown",
   "metadata": {},
   "source": [
    "* Python 3 introduced a few incompatible language changes. Most Python 2 programs will need some adjustement to run under Python 3.\n",
    "* Python 3 is _massive_ improvement of the language, though. Switching is worth the effort. And you don't have a choice, anyway ..."
   ]
  },
  {
   "cell_type": "markdown",
   "metadata": {
    "slideshow": {
     "slide_type": "slide"
    }
   },
   "source": [
    "# It's not only Python itself"
   ]
  },
  {
   "cell_type": "markdown",
   "metadata": {},
   "source": [
    "<img src=\"Packages_EoL.png\" width=\"800\"/>\n",
    "<a href=\"https://python3statement.org/\">https://python3statement.org/</a>"
   ]
  },
  {
   "cell_type": "markdown",
   "metadata": {
    "slideshow": {
     "slide_type": "slide"
    }
   },
   "source": [
    "# Why can't I just stay on Python 2?\n",
    "\n",
    "* Systems will be updated and obsolete package will be dropped\n",
    "* You'll be hit by bugs that won't be fixed\n",
    "* You want to be able to collaborate with others without backporting to obsolete software.\n",
    "\n",
    "The Python 3 ecosystem has been mature for a few years. The longer you write Python 2 code, the more code you will have to convert. Plus you miss out on a lot of nice improvements."
   ]
  },
  {
   "cell_type": "markdown",
   "metadata": {
    "slideshow": {
     "slide_type": "slide"
    }
   },
   "source": [
    "# The obvious stumbling blocks\n",
    "\n",
    "`print()` is now a function (with additional options, e.g.):"
   ]
  },
  {
   "cell_type": "code",
   "execution_count": 12,
   "metadata": {},
   "outputs": [
    {
     "name": "stdout",
     "output_type": "stream",
     "text": [
      "Hello World!\n",
      "Computed 0 iterations\n",
      "Computed 1 iterations\n"
     ]
    }
   ],
   "source": [
    "%%python2\n",
    "import sys\n",
    "\n",
    "print \"Hello World!\"\n",
    "for i in range(2):\n",
    "    print \"Computed\", i, \"iterations\"\n",
    "    sys.stdout.flush()"
   ]
  },
  {
   "cell_type": "code",
   "execution_count": 13,
   "metadata": {},
   "outputs": [
    {
     "name": "stdout",
     "output_type": "stream",
     "text": [
      "Computed 0 iterations\n",
      "Computed 1 iterations\n"
     ]
    }
   ],
   "source": [
    "for i in range(2):\n",
    "    print(\"Computed\", i, \"iterations\", flush=True)"
   ]
  },
  {
   "cell_type": "markdown",
   "metadata": {
    "slideshow": {
     "slide_type": "slide"
    }
   },
   "source": [
    "# How many times have you been bitten by integer division?\n",
    "\n",
    "True division is now the standard division:"
   ]
  },
  {
   "cell_type": "code",
   "execution_count": 13,
   "metadata": {},
   "outputs": [
    {
     "name": "stdout",
     "output_type": "stream",
     "text": [
      "Volume unit sphere 3.14159265359\n",
      "4/3 evaluates to 1\n"
     ]
    }
   ],
   "source": [
    "%%python2\n",
    "import numpy as np\n",
    "\n",
    "def volume_sphere(r):\n",
    "    return 4/3 * np.pi * r**3\n",
    "\n",
    "print \"Volume unit sphere\", volume_sphere(1)\n",
    "print \"4/3 evaluates to\", 4/3"
   ]
  },
  {
   "cell_type": "code",
   "execution_count": 14,
   "metadata": {},
   "outputs": [
    {
     "name": "stdout",
     "output_type": "stream",
     "text": [
      "Volume unit sphere 4.1887902047863905\n",
      "4/3 evaluates to  1.3333333333333333\n",
      "Integer divion still available with // operator: 4//3 =  1\n"
     ]
    }
   ],
   "source": [
    "def volume_sphere(r):\n",
    "    return 4/3 * np.pi * r**3\n",
    "\n",
    "print(f\"Volume unit sphere {volume_sphere(1)}\")\n",
    "print(\"4/3 evaluates to \", 4 / 3)\n",
    "print(\"Integer divion still available with // operator: 4//3 = \", 4 // 3)"
   ]
  },
  {
   "cell_type": "markdown",
   "metadata": {},
   "source": [
    "(N.B. syntax highlighting after cell magic only fixed in IPython 7.x)"
   ]
  },
  {
   "cell_type": "markdown",
   "metadata": {
    "slideshow": {
     "slide_type": "slide"
    }
   },
   "source": [
    "# You can get these in Python 2"
   ]
  },
  {
   "cell_type": "code",
   "execution_count": 11,
   "metadata": {},
   "outputs": [
    {
     "name": "stdout",
     "output_type": "stream",
     "text": [
      "Hello World!\n",
      "1/2 is 0.5\n"
     ]
    }
   ],
   "source": [
    "%%python2\n",
    "\n",
    "from __future__ import print_function, division\n",
    "\n",
    "print(\"Hello World!\")\n",
    "print(\"1/2 is\", 1/2)"
   ]
  },
  {
   "cell_type": "markdown",
   "metadata": {
    "slideshow": {
     "slide_type": "slide"
    }
   },
   "source": [
    "# range -> xrange -> range\n",
    "\n",
    "* Python 2 introduced `xrange` to avoid the creation of very long lists in memory\n",
    "* In Python 3 `range` returns a range object instead of a list.\n",
    "* Python 3 drops `xrange`"
   ]
  },
  {
   "cell_type": "code",
   "execution_count": 19,
   "metadata": {},
   "outputs": [
    {
     "name": "stdout",
     "output_type": "stream",
     "text": [
      "[0, 1, 2, 3, 4, 5, 6, 7, 8, 9]\n",
      "xrange(10)\n",
      "0 1 2 3 4 5 6 7 8 9\n"
     ]
    }
   ],
   "source": [
    "%%python2\n",
    "\n",
    "print range(10)\n",
    "print xrange(10)\n",
    "for i in xrange(10):\n",
    "    print i,"
   ]
  },
  {
   "cell_type": "code",
   "execution_count": 22,
   "metadata": {},
   "outputs": [
    {
     "name": "stdout",
     "output_type": "stream",
     "text": [
      "range(0, 10)\n",
      "0 1 2 3 4 5 6 7 8 9 "
     ]
    },
    {
     "ename": "NameError",
     "evalue": "name 'xrange' is not defined",
     "output_type": "error",
     "traceback": [
      "\u001b[0;31m---------------------------------------------------------------------------\u001b[0m",
      "\u001b[0;31mNameError\u001b[0m                                 Traceback (most recent call last)",
      "\u001b[0;32m<ipython-input-22-a907b3c988bb>\u001b[0m in \u001b[0;36m<module>\u001b[0;34m\u001b[0m\n\u001b[1;32m      2\u001b[0m \u001b[0;32mfor\u001b[0m \u001b[0mi\u001b[0m \u001b[0;32min\u001b[0m \u001b[0mrange\u001b[0m\u001b[0;34m(\u001b[0m\u001b[0;36m10\u001b[0m\u001b[0;34m)\u001b[0m\u001b[0;34m:\u001b[0m\u001b[0;34m\u001b[0m\u001b[0m\n\u001b[1;32m      3\u001b[0m     \u001b[0mprint\u001b[0m\u001b[0;34m(\u001b[0m\u001b[0mi\u001b[0m\u001b[0;34m,\u001b[0m \u001b[0mend\u001b[0m\u001b[0;34m=\u001b[0m\u001b[0;34m\" \"\u001b[0m\u001b[0;34m)\u001b[0m\u001b[0;34m\u001b[0m\u001b[0m\n\u001b[0;32m----> 4\u001b[0;31m \u001b[0mxrange\u001b[0m\u001b[0;34m(\u001b[0m\u001b[0;36m10\u001b[0m\u001b[0;34m)\u001b[0m\u001b[0;34m\u001b[0m\u001b[0m\n\u001b[0m",
      "\u001b[0;31mNameError\u001b[0m: name 'xrange' is not defined"
     ]
    }
   ],
   "source": [
    "print(range(10))\n",
    "for i in range(10):\n",
    "    print(i, end=\" \")\n",
    "xrange(10)"
   ]
  },
  {
   "cell_type": "markdown",
   "metadata": {
    "slideshow": {
     "slide_type": "slide"
    }
   },
   "source": [
    "# Built-ins and methods return iterators instead of lists"
   ]
  },
  {
   "cell_type": "code",
   "execution_count": 37,
   "metadata": {},
   "outputs": [
    {
     "name": "stdout",
     "output_type": "stream",
     "text": [
      "[(0, 5), (1, 4), (2, 3), (3, 2), (4, 1)] <type 'list'>\n"
     ]
    }
   ],
   "source": [
    "%%python2\n",
    "\n",
    "z = zip(range(5), range(5, 0, -1))\n",
    "print z, type(z)"
   ]
  },
  {
   "cell_type": "code",
   "execution_count": 38,
   "metadata": {},
   "outputs": [
    {
     "name": "stdout",
     "output_type": "stream",
     "text": [
      "<zip object at 0x7fae4087be48>\n",
      "[(0, 5), (1, 4), (2, 3), (3, 2), (4, 1)]\n",
      "[]\n"
     ]
    }
   ],
   "source": [
    "z = zip(range(5), range(5, 0, -1))\n",
    "print(z)\n",
    "print(list(z))\n",
    "print(list(z))"
   ]
  },
  {
   "cell_type": "markdown",
   "metadata": {},
   "source": [
    "This is more memory efficient but prevents easy slicing/indexing.\n",
    "\n",
    "Similar issue with `map()`, `.keys()`, `.items()`, etc."
   ]
  },
  {
   "cell_type": "code",
   "execution_count": 43,
   "metadata": {
    "slideshow": {
     "slide_type": "skip"
    }
   },
   "outputs": [],
   "source": [
    "import numpy as np\n",
    "H = np.eye(2)\n",
    "beta = np.ones(2)\n",
    "V = np.eye(2)\n",
    "r = np.zeros(2)"
   ]
  },
  {
   "cell_type": "markdown",
   "metadata": {
    "slideshow": {
     "slide_type": "slide"
    }
   },
   "source": [
    "# The good stuff — Matrix multiplication\n",
    "\n",
    "Imagine you need to implement something like this\n",
    "\n",
    "$$S = (H\\beta -r)^T (HVH^T)^{-1} (H\\beta - r)$$\n",
    "\n",
    "Python 3.5+ has a matrix multiplication operator that makes code much easier to read."
   ]
  },
  {
   "cell_type": "code",
   "execution_count": 46,
   "metadata": {},
   "outputs": [],
   "source": [
    "# Borrowed from PEP 465\n",
    "import numpy as np\n",
    "from numpy.linalg import inv, solve\n",
    "\n",
    "# Using dot function:\n",
    "S = np.dot((np.dot(H, beta) - r).T,\n",
    "           np.dot(inv(np.dot(np.dot(H, V), H.T)), np.dot(H, beta) - r))\n",
    "\n",
    "# Using dot method:\n",
    "S = (H.dot(beta) - r).T.dot(inv(H.dot(V).dot(H.T))).dot(H.dot(beta) - r)\n",
    "\n",
    "# With the @ operator, the direct translation of the above formula becomes:\n",
    "\n",
    "S = (H @ beta - r).T @ inv(H @ V @ H.T) @ (H @ beta - r)"
   ]
  },
  {
   "cell_type": "markdown",
   "metadata": {
    "slideshow": {
     "slide_type": "notes"
    }
   },
   "source": [
    "# Refactoring this matrix multiplication"
   ]
  },
  {
   "cell_type": "code",
   "execution_count": 45,
   "metadata": {},
   "outputs": [],
   "source": [
    "# Easy to follow refactoring\n",
    "# Original version\n",
    "S = (H @ beta - r).T @ inv(H @ V @ H.T) @ (H @ beta - r)\n",
    "\n",
    "# (1) Avoid repeated computation of Hβ-r\n",
    "trans_coef = H @ beta - r\n",
    "S = trans_coef.T @ inv(H @ V @ H.T) @ trans_coef\n",
    "\n",
    "# (2) solve(A, B) more numerically stable than dot(inv(A), B)\n",
    "S = trans_coef.T @ solve(H @ V @ H.T, trans_coef)"
   ]
  },
  {
   "cell_type": "markdown",
   "metadata": {
    "slideshow": {
     "slide_type": "slide"
    }
   },
   "source": [
    "# Nicer string formatting - f-strings\n",
    "\n",
    "No more confusion about which variable gets printed where in a string (starting with Python 3.6)."
   ]
  },
  {
   "cell_type": "code",
   "execution_count": 48,
   "metadata": {},
   "outputs": [
    {
     "name": "stdout",
     "output_type": "stream",
     "text": [
      "The value is 80\n",
      "The value is 80\n",
      "The value is 80\n",
      "The sum of the values is 20\n"
     ]
    }
   ],
   "source": [
    "value = 4 * 20\n",
    "# Unnecessarily verbose\n",
    "print(\"The value is {value}\".format(value=value))\n",
    "\n",
    "# Gets confusing with many variable to print\n",
    "print(\"The value is {}\".format(value))\n",
    "\n",
    "# Finally, easy print formatting\n",
    "print(f\"The value is {value}\")\n",
    "\n",
    "# The {} can contain Python expressions\n",
    "a, b = 7, 13\n",
    "print(f\"The sum of the values is {a + b}\")"
   ]
  },
  {
   "cell_type": "markdown",
   "metadata": {
    "slideshow": {
     "slide_type": "slide"
    }
   },
   "source": [
    "# Advanced unpacking"
   ]
  },
  {
   "cell_type": "code",
   "execution_count": 51,
   "metadata": {},
   "outputs": [
    {
     "name": "stdout",
     "output_type": "stream",
     "text": [
      "0 4\n",
      "0, [1, 2, 3], 4\n",
      "3 4\n"
     ]
    }
   ],
   "source": [
    "# Already possible in Python 2\n",
    "a, _, _, _, b = range(5)\n",
    "print(a, b)\n",
    "\n",
    "# Now you can do this\n",
    "a, *rest, b = range(5)\n",
    "print(a, rest, b, sep=\", \")  # Note another feature of the new print\n",
    "\n",
    "# rest can go anywhere\n",
    "*rest, a, b = range(5)\n",
    "print(a, b)"
   ]
  },
  {
   "cell_type": "markdown",
   "metadata": {
    "slideshow": {
     "slide_type": "slide"
    }
   },
   "source": [
    "# Get first and last line of a file"
   ]
  },
  {
   "cell_type": "code",
   "execution_count": 52,
   "metadata": {},
   "outputs": [
    {
     "name": "stdout",
     "output_type": "stream",
     "text": [
      "Step 1: Use Python 3\n",
      "\n",
      "Step 10: Profit!\n",
      "\n"
     ]
    }
   ],
   "source": [
    "with open(\"file.txt\", \"r\") as f:\n",
    "    first, *_, last = f.readlines()\n",
    "    \n",
    "print(first)\n",
    "print(last)"
   ]
  },
  {
   "cell_type": "markdown",
   "metadata": {
    "slideshow": {
     "slide_type": "slide"
    }
   },
   "source": [
    "# Keyword only arguments"
   ]
  },
  {
   "cell_type": "code",
   "execution_count": 57,
   "metadata": {},
   "outputs": [
    {
     "name": "stdout",
     "output_type": "stream",
     "text": [
      "a+b = 5\n",
      "kwname is test\n"
     ]
    },
    {
     "ename": "TypeError",
     "evalue": "myfunction() takes 2 positional arguments but 3 were given",
     "output_type": "error",
     "traceback": [
      "\u001b[0;31m---------------------------------------------------------------------------\u001b[0m",
      "\u001b[0;31mTypeError\u001b[0m                                 Traceback (most recent call last)",
      "\u001b[0;32m<ipython-input-57-ec7d911aeaf5>\u001b[0m in \u001b[0;36m<module>\u001b[0;34m\u001b[0m\n\u001b[1;32m     14\u001b[0m \u001b[0;34m\u001b[0m\u001b[0m\n\u001b[1;32m     15\u001b[0m \u001b[0mmyfunction\u001b[0m\u001b[0;34m(\u001b[0m\u001b[0;36m2\u001b[0m\u001b[0;34m,\u001b[0m \u001b[0;36m3\u001b[0m\u001b[0;34m,\u001b[0m \u001b[0mkwname\u001b[0m\u001b[0;34m=\u001b[0m\u001b[0;34m\"test\"\u001b[0m\u001b[0;34m)\u001b[0m\u001b[0;34m\u001b[0m\u001b[0m\n\u001b[0;32m---> 16\u001b[0;31m \u001b[0mmyfunction\u001b[0m\u001b[0;34m(\u001b[0m\u001b[0;36m2\u001b[0m\u001b[0;34m,\u001b[0m \u001b[0;36m3\u001b[0m\u001b[0;34m,\u001b[0m \u001b[0;34m\"fail\"\u001b[0m\u001b[0;34m)\u001b[0m\u001b[0;34m\u001b[0m\u001b[0m\n\u001b[0m",
      "\u001b[0;31mTypeError\u001b[0m: myfunction() takes 2 positional arguments but 3 were given"
     ]
    }
   ],
   "source": [
    "from astropy import cosmology\n",
    "\n",
    "# This is bad style in Python! \n",
    "my_cosmo = cosmology.FlatLambdaCDM(70, 0.27, 0, 3.04, 0, 0.04)\n",
    "\n",
    "# Explicit is better than implicit. API changes will break this code. Better:\n",
    "my_cosmo = cosmology.FlatLambdaCDM(70, Om0=0.27, Tcmb0=0, Neff=3.04, m_nu=0, Ob0=0.04)\n",
    "\n",
    "# Python 3 introduces keyword only arguments\n",
    "def myfunction(a, b, *, kwname=None):\n",
    "    print(f\"a+b = {a+b}\")\n",
    "    if kwname is not None:\n",
    "        print(f\"kwname is {kwname}\")\n",
    "\n",
    "myfunction(2, 3, kwname=\"test\")\n",
    "myfunction(2, 3, \"fail\")"
   ]
  },
  {
   "cell_type": "markdown",
   "metadata": {
    "slideshow": {
     "slide_type": "slide"
    }
   },
   "source": [
    "# Dictionary improvements\n",
    "\n",
    "In Python 3.6+ dictionaries by default behave like `OrderedDict`, i.e. key insertion order is preserved. Same is true for `**kwargs`."
   ]
  },
  {
   "cell_type": "code",
   "execution_count": 58,
   "metadata": {},
   "outputs": [
    {
     "name": "stdout",
     "output_type": "stream",
     "text": [
      "{'1': 1, '0': 0, '3': 3, '2': 2, '4': 4}\n"
     ]
    }
   ],
   "source": [
    "%%python2\n",
    "x = {str(i):i for i in range(5)}\n",
    "print x"
   ]
  },
  {
   "cell_type": "code",
   "execution_count": 59,
   "metadata": {},
   "outputs": [
    {
     "data": {
      "text/plain": [
       "{'0': 0, '1': 1, '2': 2, '3': 3, '4': 4}"
      ]
     },
     "execution_count": 59,
     "metadata": {},
     "output_type": "execute_result"
    }
   ],
   "source": [
    "x = {str(i):i for i in range(5)}\n",
    "x"
   ]
  },
  {
   "cell_type": "markdown",
   "metadata": {
    "slideshow": {
     "slide_type": "slide"
    }
   },
   "source": [
    "## They are also much more space efficient."
   ]
  },
  {
   "cell_type": "code",
   "execution_count": 62,
   "metadata": {},
   "outputs": [
    {
     "name": "stdout",
     "output_type": "stream",
     "text": [
      "402653472\n"
     ]
    }
   ],
   "source": [
    "%%python2\n",
    "from collections import defaultdict\n",
    "import sys\n",
    "\n",
    "d = defaultdict(float)\n",
    "for i in xrange(10000000):\n",
    "    d[i] = i\n",
    "print sys.getsizeof(d)"
   ]
  },
  {
   "cell_type": "code",
   "execution_count": 68,
   "metadata": {},
   "outputs": [
    {
     "name": "stdout",
     "output_type": "stream",
     "text": [
      "0.8333329955739212\n"
     ]
    }
   ],
   "source": [
    "from collections import defaultdict\n",
    "import sys\n",
    "\n",
    "d = defaultdict(float)\n",
    "for i in range(10_000_000):  #  <- Notice the thousands separators. \n",
    "                             #  Also new in Python 3\n",
    "    d[i] = i\n",
    "print(sys.getsizeof(d) / 402653472)"
   ]
  },
  {
   "cell_type": "markdown",
   "metadata": {},
   "source": [
    "Also many performance improvements, esp. in Python 3.6+."
   ]
  },
  {
   "cell_type": "markdown",
   "metadata": {
    "slideshow": {
     "slide_type": "slide"
    }
   },
   "source": [
    "# How to transition your code\n",
    "\n",
    "* If you maintain a software package for other users and want to keep your code compatible with Python 2 and 3, your not my target audience. You probably already know about [six](https://pypi.org/project/six/). You'll still have a lot of `if/then` in your code. Set a deadline to drop Python 2 support.\n",
    "\n",
    "* If it's just your own code, transition asap. Tools like [2to3](http://python3porting.com/2to3.html) go a long way to automate the transition.\n",
    "\n",
    "* How do I know that my code still works after translating to Python 3? Write [unit tests](https://github.com/joergdietrich/Code-Coffee-2018-05-08)!"
   ]
  },
  {
   "cell_type": "markdown",
   "metadata": {
    "slideshow": {
     "slide_type": "slide"
    }
   },
   "source": [
    "These slides borrowed heavily from\n",
    "\n",
    "https://python-3-for-scientists.readthedocs.io/en/latest/python3_features.html\n",
    "\n",
    "https://www.asmeurer.com/python3-presentation/python3-presentation.pdf\n",
    "\n",
    "https://github.com/arogozhnikov/python3_with_pleasure\n"
   ]
  }
 ],
 "metadata": {
  "kernelspec": {
   "display_name": "Python 3",
   "language": "python",
   "name": "python3"
  },
  "language_info": {
   "codemirror_mode": {
    "name": "ipython",
    "version": 3
   },
   "file_extension": ".py",
   "mimetype": "text/x-python",
   "name": "python",
   "nbconvert_exporter": "python",
   "pygments_lexer": "ipython3",
   "version": "3.6.6"
  }
 },
 "nbformat": 4,
 "nbformat_minor": 2
}
